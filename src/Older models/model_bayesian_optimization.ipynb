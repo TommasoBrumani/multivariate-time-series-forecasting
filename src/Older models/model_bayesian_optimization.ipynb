{
  "cells": [
    {
      "cell_type": "markdown",
      "metadata": {
        "id": "A4hqZKIZi98W"
      },
      "source": [
        "# Setup"
      ]
    },
    {
      "cell_type": "markdown",
      "metadata": {
        "id": "N7i0YEHhiBae"
      },
      "source": [
        "## Import statements"
      ]
    },
    {
      "cell_type": "code",
      "execution_count": null,
      "metadata": {
        "colab": {
          "base_uri": "https://localhost:8080/"
        },
        "execution": {
          "iopub.execute_input": "2021-12-22T15:04:01.677191Z",
          "iopub.status.busy": "2021-12-22T15:04:01.676877Z",
          "iopub.status.idle": "2021-12-22T15:04:07.257349Z",
          "shell.execute_reply": "2021-12-22T15:04:07.256527Z",
          "shell.execute_reply.started": "2021-12-22T15:04:01.677156Z"
        },
        "id": "Ip92wupWiFNH",
        "outputId": "62a6f48c-2684-40f7-be81-e3f0de618a50",
        "trusted": true
      },
      "outputs": [
        {
          "name": "stdout",
          "output_type": "stream",
          "text": [
            "2.7.0\n"
          ]
        }
      ],
      "source": [
        "import tensorflow as tf\n",
        "import numpy as np\n",
        "import os\n",
        "import random\n",
        "import pandas as pd\n",
        "import seaborn as sns\n",
        "from datetime import datetime\n",
        "import matplotlib.pyplot as plt\n",
        "plt.rc('font', size=16)\n",
        "from sklearn.preprocessing import MinMaxScaler\n",
        "import warnings\n",
        "warnings.filterwarnings('ignore')\n",
        "tf.get_logger().setLevel('ERROR')\n",
        "\n",
        "tfk = tf.keras\n",
        "tfkl = tf.keras.layers\n",
        "print(tf.__version__)"
      ]
    },
    {
      "cell_type": "markdown",
      "metadata": {
        "id": "aPk73S4iiPOn"
      },
      "source": [
        "## Set seed"
      ]
    },
    {
      "cell_type": "code",
      "execution_count": null,
      "metadata": {
        "execution": {
          "iopub.execute_input": "2021-12-22T15:04:07.259037Z",
          "iopub.status.busy": "2021-12-22T15:04:07.258776Z",
          "iopub.status.idle": "2021-12-22T15:04:07.265594Z",
          "shell.execute_reply": "2021-12-22T15:04:07.264894Z",
          "shell.execute_reply.started": "2021-12-22T15:04:07.259Z"
        },
        "id": "AZOHf445iRJx",
        "trusted": true
      },
      "outputs": [],
      "source": [
        "# Random seed for reproducibility\n",
        "seed = 69\n",
        "\n",
        "random.seed(seed)\n",
        "os.environ['PYTHONHASHSEED'] = str(seed)\n",
        "np.random.seed(seed)\n",
        "tf.random.set_seed(seed)\n",
        "tf.compat.v1.set_random_seed(seed)"
      ]
    },
    {
      "cell_type": "markdown",
      "metadata": {
        "id": "h2_wAaDCixjn"
      },
      "source": [
        "## Load dataset"
      ]
    },
    {
      "cell_type": "code",
      "execution_count": null,
      "metadata": {
        "colab": {
          "base_uri": "https://localhost:8080/",
          "height": 276
        },
        "execution": {
          "iopub.execute_input": "2021-12-22T15:04:07.266926Z",
          "iopub.status.busy": "2021-12-22T15:04:07.266676Z",
          "iopub.status.idle": "2021-12-22T15:04:07.50383Z",
          "shell.execute_reply": "2021-12-22T15:04:07.503083Z",
          "shell.execute_reply.started": "2021-12-22T15:04:07.266889Z"
        },
        "id": "HQFoLNyBiz2v",
        "outputId": "a37db7f6-7562-4ffd-c52b-4f9a40827471",
        "trusted": true
      },
      "outputs": [
        {
          "name": "stdout",
          "output_type": "stream",
          "text": [
            "(68528, 7)\n",
            "Index(['Sponginess', 'Wonder level', 'Crunchiness', 'Loudness on impact',\n",
            "       'Meme creativity', 'Soap slipperiness', 'Hype root'],\n",
            "      dtype='object')\n"
          ]
        },
        {
          "data": {
            "text/html": [
              "\n",
              "  <div id=\"df-fcfd573c-7ef2-4276-8b44-e2131b69293b\">\n",
              "    <div class=\"colab-df-container\">\n",
              "      <div>\n",
              "<style scoped>\n",
              "    .dataframe tbody tr th:only-of-type {\n",
              "        vertical-align: middle;\n",
              "    }\n",
              "\n",
              "    .dataframe tbody tr th {\n",
              "        vertical-align: top;\n",
              "    }\n",
              "\n",
              "    .dataframe thead th {\n",
              "        text-align: right;\n",
              "    }\n",
              "</style>\n",
              "<table border=\"1\" class=\"dataframe\">\n",
              "  <thead>\n",
              "    <tr style=\"text-align: right;\">\n",
              "      <th></th>\n",
              "      <th>Sponginess</th>\n",
              "      <th>Wonder level</th>\n",
              "      <th>Crunchiness</th>\n",
              "      <th>Loudness on impact</th>\n",
              "      <th>Meme creativity</th>\n",
              "      <th>Soap slipperiness</th>\n",
              "      <th>Hype root</th>\n",
              "    </tr>\n",
              "  </thead>\n",
              "  <tbody>\n",
              "    <tr>\n",
              "      <th>0</th>\n",
              "      <td>7.97698</td>\n",
              "      <td>4.33494</td>\n",
              "      <td>10.67282</td>\n",
              "      <td>1.76692</td>\n",
              "      <td>3.22440</td>\n",
              "      <td>51.681460</td>\n",
              "      <td>3.65434</td>\n",
              "    </tr>\n",
              "    <tr>\n",
              "      <th>1</th>\n",
              "      <td>8.07824</td>\n",
              "      <td>4.44616</td>\n",
              "      <td>10.56160</td>\n",
              "      <td>1.70716</td>\n",
              "      <td>3.32566</td>\n",
              "      <td>51.563598</td>\n",
              "      <td>3.47672</td>\n",
              "    </tr>\n",
              "    <tr>\n",
              "      <th>2</th>\n",
              "      <td>8.02844</td>\n",
              "      <td>4.22372</td>\n",
              "      <td>10.56160</td>\n",
              "      <td>1.64906</td>\n",
              "      <td>3.17460</td>\n",
              "      <td>50.863080</td>\n",
              "      <td>3.47672</td>\n",
              "    </tr>\n",
              "    <tr>\n",
              "      <th>3</th>\n",
              "      <td>8.02844</td>\n",
              "      <td>4.22372</td>\n",
              "      <td>10.56160</td>\n",
              "      <td>1.70716</td>\n",
              "      <td>3.17460</td>\n",
              "      <td>45.841581</td>\n",
              "      <td>3.47672</td>\n",
              "    </tr>\n",
              "    <tr>\n",
              "      <th>4</th>\n",
              "      <td>7.87572</td>\n",
              "      <td>4.44616</td>\n",
              "      <td>10.45038</td>\n",
              "      <td>1.70716</td>\n",
              "      <td>3.27586</td>\n",
              "      <td>47.126421</td>\n",
              "      <td>3.47672</td>\n",
              "    </tr>\n",
              "  </tbody>\n",
              "</table>\n",
              "</div>\n",
              "      <button class=\"colab-df-convert\" onclick=\"convertToInteractive('df-fcfd573c-7ef2-4276-8b44-e2131b69293b')\"\n",
              "              title=\"Convert this dataframe to an interactive table.\"\n",
              "              style=\"display:none;\">\n",
              "        \n",
              "  <svg xmlns=\"http://www.w3.org/2000/svg\" height=\"24px\"viewBox=\"0 0 24 24\"\n",
              "       width=\"24px\">\n",
              "    <path d=\"M0 0h24v24H0V0z\" fill=\"none\"/>\n",
              "    <path d=\"M18.56 5.44l.94 2.06.94-2.06 2.06-.94-2.06-.94-.94-2.06-.94 2.06-2.06.94zm-11 1L8.5 8.5l.94-2.06 2.06-.94-2.06-.94L8.5 2.5l-.94 2.06-2.06.94zm10 10l.94 2.06.94-2.06 2.06-.94-2.06-.94-.94-2.06-.94 2.06-2.06.94z\"/><path d=\"M17.41 7.96l-1.37-1.37c-.4-.4-.92-.59-1.43-.59-.52 0-1.04.2-1.43.59L10.3 9.45l-7.72 7.72c-.78.78-.78 2.05 0 2.83L4 21.41c.39.39.9.59 1.41.59.51 0 1.02-.2 1.41-.59l7.78-7.78 2.81-2.81c.8-.78.8-2.07 0-2.86zM5.41 20L4 18.59l7.72-7.72 1.47 1.35L5.41 20z\"/>\n",
              "  </svg>\n",
              "      </button>\n",
              "      \n",
              "  <style>\n",
              "    .colab-df-container {\n",
              "      display:flex;\n",
              "      flex-wrap:wrap;\n",
              "      gap: 12px;\n",
              "    }\n",
              "\n",
              "    .colab-df-convert {\n",
              "      background-color: #E8F0FE;\n",
              "      border: none;\n",
              "      border-radius: 50%;\n",
              "      cursor: pointer;\n",
              "      display: none;\n",
              "      fill: #1967D2;\n",
              "      height: 32px;\n",
              "      padding: 0 0 0 0;\n",
              "      width: 32px;\n",
              "    }\n",
              "\n",
              "    .colab-df-convert:hover {\n",
              "      background-color: #E2EBFA;\n",
              "      box-shadow: 0px 1px 2px rgba(60, 64, 67, 0.3), 0px 1px 3px 1px rgba(60, 64, 67, 0.15);\n",
              "      fill: #174EA6;\n",
              "    }\n",
              "\n",
              "    [theme=dark] .colab-df-convert {\n",
              "      background-color: #3B4455;\n",
              "      fill: #D2E3FC;\n",
              "    }\n",
              "\n",
              "    [theme=dark] .colab-df-convert:hover {\n",
              "      background-color: #434B5C;\n",
              "      box-shadow: 0px 1px 3px 1px rgba(0, 0, 0, 0.15);\n",
              "      filter: drop-shadow(0px 1px 2px rgba(0, 0, 0, 0.3));\n",
              "      fill: #FFFFFF;\n",
              "    }\n",
              "  </style>\n",
              "\n",
              "      <script>\n",
              "        const buttonEl =\n",
              "          document.querySelector('#df-fcfd573c-7ef2-4276-8b44-e2131b69293b button.colab-df-convert');\n",
              "        buttonEl.style.display =\n",
              "          google.colab.kernel.accessAllowed ? 'block' : 'none';\n",
              "\n",
              "        async function convertToInteractive(key) {\n",
              "          const element = document.querySelector('#df-fcfd573c-7ef2-4276-8b44-e2131b69293b');\n",
              "          const dataTable =\n",
              "            await google.colab.kernel.invokeFunction('convertToInteractive',\n",
              "                                                     [key], {});\n",
              "          if (!dataTable) return;\n",
              "\n",
              "          const docLinkHtml = 'Like what you see? Visit the ' +\n",
              "            '<a target=\"_blank\" href=https://colab.research.google.com/notebooks/data_table.ipynb>data table notebook</a>'\n",
              "            + ' to learn more about interactive tables.';\n",
              "          element.innerHTML = '';\n",
              "          dataTable['output_type'] = 'display_data';\n",
              "          await google.colab.output.renderOutput(dataTable, element);\n",
              "          const docLink = document.createElement('div');\n",
              "          docLink.innerHTML = docLinkHtml;\n",
              "          element.appendChild(docLink);\n",
              "        }\n",
              "      </script>\n",
              "    </div>\n",
              "  </div>\n",
              "  "
            ],
            "text/plain": [
              "   Sponginess  Wonder level  ...  Soap slipperiness  Hype root\n",
              "0     7.97698       4.33494  ...          51.681460    3.65434\n",
              "1     8.07824       4.44616  ...          51.563598    3.47672\n",
              "2     8.02844       4.22372  ...          50.863080    3.47672\n",
              "3     8.02844       4.22372  ...          45.841581    3.47672\n",
              "4     7.87572       4.44616  ...          47.126421    3.47672\n",
              "\n",
              "[5 rows x 7 columns]"
            ]
          },
          "execution_count": 16,
          "metadata": {},
          "output_type": "execute_result"
        }
      ],
      "source": [
        "dataset = pd.read_csv('Training.csv')\n",
        "target_labels = dataset.columns\n",
        "print(dataset.shape)\n",
        "print(target_labels)\n",
        "dataset.head()"
      ]
    },
    {
      "cell_type": "markdown",
      "metadata": {
        "id": "E9CedtPijuUe"
      },
      "source": [
        "## Hyperparameters\n"
      ]
    },
    {
      "cell_type": "code",
      "execution_count": null,
      "metadata": {
        "execution": {
          "iopub.execute_input": "2021-12-22T15:04:07.506727Z",
          "iopub.status.busy": "2021-12-22T15:04:07.505993Z",
          "iopub.status.idle": "2021-12-22T15:04:07.5121Z",
          "shell.execute_reply": "2021-12-22T15:04:07.511391Z",
          "shell.execute_reply.started": "2021-12-22T15:04:07.506688Z"
        },
        "id": "BvPTKsXnjtia",
        "trusted": true
      },
      "outputs": [],
      "source": [
        "model_name = \"H_MK_XIX\"\n",
        "window = 2000\n",
        "stride = 10\n",
        "telescope = 16\n",
        "reg_telescope = 864\n",
        "epochs = 200\n",
        "batch_size = 64 #sembra ottimale un batch size piccolo es 8\n",
        "# layer_size = 128\n",
        "# regularization = 1e-6\n",
        "# kernel_size = 3\n",
        "# dropout_value1 = 0.5\n",
        "# dropout_value2 = 0.5\n",
        "# clipnorm=0.01"
      ]
    },
    {
      "cell_type": "markdown",
      "metadata": {
        "id": "FUNWo-X2klYa"
      },
      "source": [
        "# Data Preparation"
      ]
    },
    {
      "cell_type": "markdown",
      "metadata": {
        "id": "at1Mzem_kqh_"
      },
      "source": [
        "## Segment dataset"
      ]
    },
    {
      "cell_type": "code",
      "execution_count": null,
      "metadata": {
        "colab": {
          "base_uri": "https://localhost:8080/"
        },
        "execution": {
          "iopub.execute_input": "2021-12-22T15:04:07.513694Z",
          "iopub.status.busy": "2021-12-22T15:04:07.513433Z",
          "iopub.status.idle": "2021-12-22T15:04:07.524316Z",
          "shell.execute_reply": "2021-12-22T15:04:07.5231Z",
          "shell.execute_reply.started": "2021-12-22T15:04:07.513661Z"
        },
        "id": "cnGMX9Fukt7p",
        "outputId": "bb399090-cb76-47d4-a18f-0bc3442ad639",
        "trusted": true
      },
      "outputs": [
        {
          "name": "stdout",
          "output_type": "stream",
          "text": [
            "(61676, 7) (6852, 7)\n"
          ]
        }
      ],
      "source": [
        "test_size = int(dataset.shape[0]/10)\n",
        "X_train_raw = dataset.iloc[:-test_size]\n",
        "X_train_window = dataset.iloc[:window]\n",
        "X_test_raw = dataset.iloc[-test_size:]\n",
        "print(X_train_raw.shape, X_test_raw.shape)"
      ]
    },
    {
      "cell_type": "markdown",
      "metadata": {
        "id": "1AooiCD-mGP2"
      },
      "source": [
        "## Normalize"
      ]
    },
    {
      "cell_type": "code",
      "execution_count": null,
      "metadata": {
        "execution": {
          "iopub.execute_input": "2021-12-22T15:04:07.525637Z",
          "iopub.status.busy": "2021-12-22T15:04:07.525434Z",
          "iopub.status.idle": "2021-12-22T15:04:07.54253Z",
          "shell.execute_reply": "2021-12-22T15:04:07.541898Z",
          "shell.execute_reply.started": "2021-12-22T15:04:07.525613Z"
        },
        "id": "aKaU7OXrmOpO",
        "trusted": true
      },
      "outputs": [],
      "source": [
        "X_min = dataset.min()\n",
        "X_max = dataset.max()\n",
        "\n",
        "X_train_raw = (X_train_raw-X_min)/(X_max-X_min)\n",
        "X_train_window = (X_train_window-X_min)/(X_max-X_min)\n",
        "X_test_raw = (X_test_raw-X_min)/(X_max-X_min)\n",
        "\n",
        "# future = dataset[-window:]\n",
        "# future = (future-X_min)/(X_max-X_min)\n",
        "# future = np.expand_dims(future, axis=0)\n",
        "# future.shape"
      ]
    },
    {
      "cell_type": "markdown",
      "metadata": {
        "id": "a9v0rce1mq_p"
      },
      "source": [
        "## Plot training/test set"
      ]
    },
    {
      "cell_type": "code",
      "execution_count": null,
      "metadata": {
        "execution": {
          "iopub.execute_input": "2021-12-22T15:04:07.543963Z",
          "iopub.status.busy": "2021-12-22T15:04:07.543689Z",
          "iopub.status.idle": "2021-12-22T15:04:07.547802Z",
          "shell.execute_reply": "2021-12-22T15:04:07.547113Z",
          "shell.execute_reply.started": "2021-12-22T15:04:07.543924Z"
        },
        "id": "u9wPaoBkna8x",
        "trusted": true
      },
      "outputs": [],
      "source": [
        "# def inspect_dataframe(train, window, test, columns):\n",
        "#     figs, axs = plt.subplots(len(columns), 1, sharex=True, figsize=(30,30))\n",
        "#     for i, col in enumerate(columns):\n",
        "#         axs[i].plot(train[col], label='Train')\n",
        "#         axs[i].plot(window[col], label='Window')\n",
        "#         axs[i].plot(test[col], label='Test')\n",
        "#         axs[i].set_title(col)\n",
        "#         axs[i].legend()\n",
        "#     plt.show()\n",
        "# inspect_dataframe(X_train_raw, X_train_window, X_test_raw, target_labels)"
      ]
    },
    {
      "cell_type": "markdown",
      "metadata": {
        "id": "-Q86UBahn7P2"
      },
      "source": [
        "## Split into windows"
      ]
    },
    {
      "cell_type": "code",
      "execution_count": null,
      "metadata": {
        "execution": {
          "iopub.execute_input": "2021-12-22T15:04:07.549549Z",
          "iopub.status.busy": "2021-12-22T15:04:07.54916Z",
          "iopub.status.idle": "2021-12-22T15:04:07.560094Z",
          "shell.execute_reply": "2021-12-22T15:04:07.559371Z",
          "shell.execute_reply.started": "2021-12-22T15:04:07.549512Z"
        },
        "id": "RV8RaXmvn9pf",
        "trusted": true
      },
      "outputs": [],
      "source": [
        "def build_sequences(df, target_labels=['sponginess'], window=200, stride=20, telescope=100):\n",
        "    # Sanity check to avoid runtime errors\n",
        "    assert window % stride == 0\n",
        "    dataset = []\n",
        "    labels = []\n",
        "    temp_df = df.copy().values\n",
        "    temp_label = df[target_labels].copy().values\n",
        "    padding_len = len(df)%window\n",
        "\n",
        "    if(padding_len != 0):\n",
        "        # Compute padding length\n",
        "        padding_len = window - len(df)%window\n",
        "        padding = np.zeros((padding_len,temp_df.shape[1]), dtype='float64')\n",
        "        temp_df = np.concatenate((padding,df))\n",
        "        padding = np.zeros((padding_len,temp_label.shape[1]), dtype='float64')\n",
        "        temp_label = np.concatenate((padding,temp_label))\n",
        "        assert len(temp_df) % window == 0\n",
        "\n",
        "    for idx in np.arange(0,len(temp_df)-window-telescope,stride):\n",
        "        dataset.append(temp_df[idx:idx+window])\n",
        "        labels.append(temp_label[idx+window:idx+window+telescope])\n",
        "\n",
        "    dataset = np.array(dataset)\n",
        "    labels = np.array(labels)\n",
        "    return dataset, labels"
      ]
    },
    {
      "cell_type": "code",
      "execution_count": null,
      "metadata": {
        "colab": {
          "base_uri": "https://localhost:8080/"
        },
        "execution": {
          "iopub.execute_input": "2021-12-22T15:04:07.563522Z",
          "iopub.status.busy": "2021-12-22T15:04:07.563014Z",
          "iopub.status.idle": "2021-12-22T15:04:07.780261Z",
          "shell.execute_reply": "2021-12-22T15:04:07.779501Z",
          "shell.execute_reply.started": "2021-12-22T15:04:07.563485Z"
        },
        "id": "Ld-nxaNhn_jz",
        "outputId": "2402205a-8432-4a9f-deb0-f01f51f4593f",
        "trusted": true
      },
      "outputs": [
        {
          "name": "stdout",
          "output_type": "stream",
          "text": [
            "(5999, 2000, 7) (5999, 16, 7) (599, 2000, 7) (599, 16, 7)\n",
            "(2000, 7) (16, 7)\n"
          ]
        }
      ],
      "source": [
        "X_train, y_train = build_sequences(X_train_raw, target_labels, window, stride, telescope)\n",
        "X_test, y_test = build_sequences(X_test_raw, target_labels, window, stride, telescope)\n",
        "print(X_train.shape, y_train.shape, X_test.shape, y_test.shape)\n",
        "\n",
        "input_shape = X_train.shape[1:]\n",
        "output_shape = y_train.shape[1:]\n",
        "\n",
        "print(input_shape, output_shape)"
      ]
    },
    {
      "cell_type": "markdown",
      "metadata": {
        "id": "ZnDK8af1maE-"
      },
      "source": [
        "# Model"
      ]
    },
    {
      "cell_type": "markdown",
      "metadata": {
        "id": "dPhk-6TH4L_w"
      },
      "source": [
        "## Callbacks"
      ]
    },
    {
      "cell_type": "code",
      "execution_count": null,
      "metadata": {
        "execution": {
          "iopub.execute_input": "2021-12-22T15:04:07.781928Z",
          "iopub.status.busy": "2021-12-22T15:04:07.781395Z",
          "iopub.status.idle": "2021-12-22T15:04:07.791864Z",
          "shell.execute_reply": "2021-12-22T15:04:07.791151Z",
          "shell.execute_reply.started": "2021-12-22T15:04:07.781888Z"
        },
        "id": "n0kJ1wyR4NjD",
        "trusted": true
      },
      "outputs": [],
      "source": [
        "def create_folders_and_callbacks(model_name):\n",
        "\n",
        "  ############ Create directory for checkpoints ###########\n",
        "  exps_dir = os.path.join('data_augmentation_experiments')\n",
        "  if not os.path.exists(exps_dir):\n",
        "      os.makedirs(exps_dir)\n",
        "\n",
        "  now = datetime.now().strftime('%b%d_%H-%M-%S')\n",
        "\n",
        "  exp_dir = os.path.join(exps_dir, model_name + '_' + str(now))\n",
        "  if not os.path.exists(exp_dir):\n",
        "      os.makedirs(exp_dir)\n",
        "      \n",
        "  callbacks = []\n",
        "\n",
        "  ############ Model checkpoints #################\n",
        "  ckpt_dir = os.path.join(exp_dir, 'ckpts') # ckpts folder will contain model checkpoints\n",
        "  if not os.path.exists(ckpt_dir):\n",
        "      os.makedirs(ckpt_dir)\n",
        "\n",
        "  ckpt_callback = tf.keras.callbacks.ModelCheckpoint(filepath=os.path.join(ckpt_dir, 'cp.ckpt'), # where to save the model\n",
        "                                                     save_weights_only=False, # True to save only weights (not the whole model)\n",
        "                                                     save_best_only=False) # True to save only the best epoch (it's probably best to save it later manually, so you have bothe the best and LAST epoch - you can use the last to restart training if something goes wrong)\n",
        "  callbacks.append(ckpt_callback)\n",
        "\n",
        "  ############# Early Stopping #################\n",
        "  es_callback = tf.keras.callbacks.EarlyStopping(monitor='val_loss', patience=10, restore_best_weights=True)\n",
        "  callbacks.append(es_callback)\n",
        "\n",
        "  ############# Reduce Learning Rate ##############\n",
        "  rlr_callback = tfk.callbacks.ReduceLROnPlateau(monitor='val_loss', mode='min', patience=5, factor=0.7, min_lr=1e-5)\n",
        "  callbacks.append(rlr_callback)\n",
        "\n",
        "  return callbacks"
      ]
    },
    {
      "cell_type": "markdown",
      "metadata": {
        "id": "THGOSy7joH8p"
      },
      "source": [
        "## Build the model"
      ]
    },
    {
      "cell_type": "code",
      "execution_count": null,
      "metadata": {
        "execution": {
          "iopub.execute_input": "2021-12-22T15:04:07.793533Z",
          "iopub.status.busy": "2021-12-22T15:04:07.79311Z",
          "iopub.status.idle": "2021-12-22T15:04:07.809098Z",
          "shell.execute_reply": "2021-12-22T15:04:07.808377Z",
          "shell.execute_reply.started": "2021-12-22T15:04:07.793493Z"
        },
        "id": "4mi0f9m-oNdB",
        "trusted": true
      },
      "outputs": [],
      "source": [
        "def build_model(hp):\n",
        "\n",
        "    layer_size = hp.Int('layer', 8, 2048, default=128)\n",
        "    regularization = hp.Float('regularization', 1e-8, 1e-4, sampling=\"log\", default=1e-6)\n",
        "    kernel_size = hp.Int('kernel', 1, 17, default=3)\n",
        "    dropout_value1 = hp.Float('dropout1', 0, 0.5, step=0.1, default=0.5)\n",
        "    dropout_value2 = hp.Float('dropout2', 0, 0.5, step=0.1, default=0.5)\n",
        "    clipnorm = hp.Float('clipnorm', 1e-3, 1e-1, sampling=\"log\", default=1e-2)\n",
        "\n",
        "# Build the neural network layer by layer\n",
        "    input_layer = tfkl.Input(shape=input_shape, name='Input')\n",
        "    conv = tfkl.Conv1D(layer_size, kernel_size, padding='same', activation='relu', kernel_initializer=tfk.initializers.GlorotUniform(seed),kernel_regularizer=tf.keras.regularizers.l2(regularization))(input_layer)\n",
        "    conv = tfkl.MaxPool1D()(conv)\n",
        "    blstm = tfkl.Bidirectional(tfkl.LSTM(layer_size, return_sequences=False,kernel_initializer=tfk.initializers.GlorotUniform(seed),kernel_regularizer=tf.keras.regularizers.l2(regularization)))(conv)\n",
        "    blstm = tfkl.Dropout(dropout_value1, seed = seed)(blstm)\n",
        "    dense1 = tfkl.Dense(layer_size, activation = \"relu\", kernel_initializer=tfk.initializers.GlorotUniform(seed),kernel_regularizer=tf.keras.regularizers.l2(regularization))(blstm)\n",
        "    dense1 = tfkl.Dropout(dropout_value2, seed = seed)(dense1)\n",
        "    # In order to predict the next values for more than one sensor,\n",
        "    # we can use a Dense layer with a number given by telescope*num_sensors,\n",
        "    # followed by a Reshape layer to obtain a tensor of dimension\n",
        "    # [None, telescope, num_sensors]\n",
        "    dense = tfkl.Dense(output_shape[-1] * output_shape[-2], activation='relu',kernel_initializer=tfk.initializers.GlorotUniform(seed),kernel_regularizer=tf.keras.regularizers.l2(regularization))(dense1)\n",
        "    output_layer = tfkl.Reshape((output_shape[-2], output_shape[-1]))(dense)\n",
        "    output_layer = tfkl.Conv1D(output_shape[-1], 1, padding='same')(output_layer)\n",
        "\n",
        "    # Connect input and output through the Model class\n",
        "    model = tfk.Model(inputs=input_layer, outputs=output_layer, name='model')\n",
        "\n",
        "    # Compile the model\n",
        "    model.compile(loss=tfk.losses.MeanSquaredError(), optimizer=tfk.optimizers.Adam(clipnorm=clipnorm), metrics=tf.keras.metrics.RootMeanSquaredError())\n",
        "\n",
        "    # Return the model\n",
        "    return model"
      ]
    },
    {
      "cell_type": "code",
      "execution_count": null,
      "metadata": {
        "colab": {
          "base_uri": "https://localhost:8080/"
        },
        "execution": {
          "iopub.execute_input": "2021-12-22T15:04:07.81094Z",
          "iopub.status.busy": "2021-12-22T15:04:07.810432Z",
          "iopub.status.idle": "2021-12-22T15:04:19.95538Z",
          "shell.execute_reply": "2021-12-22T15:04:19.954573Z",
          "shell.execute_reply.started": "2021-12-22T15:04:07.810904Z"
        },
        "id": "44n213WvSXRQ",
        "outputId": "b08e0fa4-bfb1-45e2-c771-9dd650d3227b",
        "trusted": true
      },
      "outputs": [
        {
          "name": "stdout",
          "output_type": "stream",
          "text": [
            "Collecting keras_tuner\n",
            "  Downloading keras_tuner-1.1.0-py3-none-any.whl (98 kB)\n",
            "\u001b[?25l\r\u001b[K     |███▍                            | 10 kB 26.1 MB/s eta 0:00:01\r\u001b[K     |██████▊                         | 20 kB 14.1 MB/s eta 0:00:01\r\u001b[K     |██████████                      | 30 kB 10.2 MB/s eta 0:00:01\r\u001b[K     |█████████████▍                  | 40 kB 8.7 MB/s eta 0:00:01\r\u001b[K     |████████████████▊               | 51 kB 5.2 MB/s eta 0:00:01\r\u001b[K     |████████████████████            | 61 kB 5.3 MB/s eta 0:00:01\r\u001b[K     |███████████████████████▍        | 71 kB 5.6 MB/s eta 0:00:01\r\u001b[K     |██████████████████████████▊     | 81 kB 6.3 MB/s eta 0:00:01\r\u001b[K     |██████████████████████████████  | 92 kB 6.3 MB/s eta 0:00:01\r\u001b[K     |████████████████████████████████| 98 kB 3.5 MB/s \n",
            "\u001b[?25hCollecting kt-legacy\n",
            "  Downloading kt_legacy-1.0.4-py3-none-any.whl (9.6 kB)\n",
            "Requirement already satisfied: ipython in /usr/local/lib/python3.7/dist-packages (from keras_tuner) (5.5.0)\n",
            "Requirement already satisfied: scipy in /usr/local/lib/python3.7/dist-packages (from keras_tuner) (1.4.1)\n",
            "Requirement already satisfied: numpy in /usr/local/lib/python3.7/dist-packages (from keras_tuner) (1.19.5)\n",
            "Requirement already satisfied: packaging in /usr/local/lib/python3.7/dist-packages (from keras_tuner) (21.3)\n",
            "Requirement already satisfied: requests in /usr/local/lib/python3.7/dist-packages (from keras_tuner) (2.23.0)\n",
            "Requirement already satisfied: tensorboard in /usr/local/lib/python3.7/dist-packages (from keras_tuner) (2.7.0)\n",
            "Requirement already satisfied: traitlets>=4.2 in /usr/local/lib/python3.7/dist-packages (from ipython->keras_tuner) (5.1.1)\n",
            "Requirement already satisfied: simplegeneric>0.8 in /usr/local/lib/python3.7/dist-packages (from ipython->keras_tuner) (0.8.1)\n",
            "Requirement already satisfied: pygments in /usr/local/lib/python3.7/dist-packages (from ipython->keras_tuner) (2.6.1)\n",
            "Requirement already satisfied: decorator in /usr/local/lib/python3.7/dist-packages (from ipython->keras_tuner) (4.4.2)\n",
            "Requirement already satisfied: pexpect in /usr/local/lib/python3.7/dist-packages (from ipython->keras_tuner) (4.8.0)\n",
            "Requirement already satisfied: prompt-toolkit<2.0.0,>=1.0.4 in /usr/local/lib/python3.7/dist-packages (from ipython->keras_tuner) (1.0.18)\n",
            "Requirement already satisfied: pickleshare in /usr/local/lib/python3.7/dist-packages (from ipython->keras_tuner) (0.7.5)\n",
            "Requirement already satisfied: setuptools>=18.5 in /usr/local/lib/python3.7/dist-packages (from ipython->keras_tuner) (57.4.0)\n",
            "Requirement already satisfied: wcwidth in /usr/local/lib/python3.7/dist-packages (from prompt-toolkit<2.0.0,>=1.0.4->ipython->keras_tuner) (0.2.5)\n",
            "Requirement already satisfied: six>=1.9.0 in /usr/local/lib/python3.7/dist-packages (from prompt-toolkit<2.0.0,>=1.0.4->ipython->keras_tuner) (1.15.0)\n",
            "Requirement already satisfied: pyparsing!=3.0.5,>=2.0.2 in /usr/local/lib/python3.7/dist-packages (from packaging->keras_tuner) (3.0.6)\n",
            "Requirement already satisfied: ptyprocess>=0.5 in /usr/local/lib/python3.7/dist-packages (from pexpect->ipython->keras_tuner) (0.7.0)\n",
            "Requirement already satisfied: chardet<4,>=3.0.2 in /usr/local/lib/python3.7/dist-packages (from requests->keras_tuner) (3.0.4)\n",
            "Requirement already satisfied: idna<3,>=2.5 in /usr/local/lib/python3.7/dist-packages (from requests->keras_tuner) (2.10)\n",
            "Requirement already satisfied: urllib3!=1.25.0,!=1.25.1,<1.26,>=1.21.1 in /usr/local/lib/python3.7/dist-packages (from requests->keras_tuner) (1.24.3)\n",
            "Requirement already satisfied: certifi>=2017.4.17 in /usr/local/lib/python3.7/dist-packages (from requests->keras_tuner) (2021.10.8)\n",
            "Requirement already satisfied: markdown>=2.6.8 in /usr/local/lib/python3.7/dist-packages (from tensorboard->keras_tuner) (3.3.6)\n",
            "Requirement already satisfied: google-auth-oauthlib<0.5,>=0.4.1 in /usr/local/lib/python3.7/dist-packages (from tensorboard->keras_tuner) (0.4.6)\n",
            "Requirement already satisfied: google-auth<3,>=1.6.3 in /usr/local/lib/python3.7/dist-packages (from tensorboard->keras_tuner) (1.35.0)\n",
            "Requirement already satisfied: protobuf>=3.6.0 in /usr/local/lib/python3.7/dist-packages (from tensorboard->keras_tuner) (3.17.3)\n",
            "Requirement already satisfied: absl-py>=0.4 in /usr/local/lib/python3.7/dist-packages (from tensorboard->keras_tuner) (0.12.0)\n",
            "Requirement already satisfied: tensorboard-plugin-wit>=1.6.0 in /usr/local/lib/python3.7/dist-packages (from tensorboard->keras_tuner) (1.8.0)\n",
            "Requirement already satisfied: tensorboard-data-server<0.7.0,>=0.6.0 in /usr/local/lib/python3.7/dist-packages (from tensorboard->keras_tuner) (0.6.1)\n",
            "Requirement already satisfied: werkzeug>=0.11.15 in /usr/local/lib/python3.7/dist-packages (from tensorboard->keras_tuner) (1.0.1)\n",
            "Requirement already satisfied: wheel>=0.26 in /usr/local/lib/python3.7/dist-packages (from tensorboard->keras_tuner) (0.37.0)\n",
            "Requirement already satisfied: grpcio>=1.24.3 in /usr/local/lib/python3.7/dist-packages (from tensorboard->keras_tuner) (1.42.0)\n",
            "Requirement already satisfied: rsa<5,>=3.1.4 in /usr/local/lib/python3.7/dist-packages (from google-auth<3,>=1.6.3->tensorboard->keras_tuner) (4.8)\n",
            "Requirement already satisfied: cachetools<5.0,>=2.0.0 in /usr/local/lib/python3.7/dist-packages (from google-auth<3,>=1.6.3->tensorboard->keras_tuner) (4.2.4)\n",
            "Requirement already satisfied: pyasn1-modules>=0.2.1 in /usr/local/lib/python3.7/dist-packages (from google-auth<3,>=1.6.3->tensorboard->keras_tuner) (0.2.8)\n",
            "Requirement already satisfied: requests-oauthlib>=0.7.0 in /usr/local/lib/python3.7/dist-packages (from google-auth-oauthlib<0.5,>=0.4.1->tensorboard->keras_tuner) (1.3.0)\n",
            "Requirement already satisfied: importlib-metadata>=4.4 in /usr/local/lib/python3.7/dist-packages (from markdown>=2.6.8->tensorboard->keras_tuner) (4.8.2)\n",
            "Requirement already satisfied: zipp>=0.5 in /usr/local/lib/python3.7/dist-packages (from importlib-metadata>=4.4->markdown>=2.6.8->tensorboard->keras_tuner) (3.6.0)\n",
            "Requirement already satisfied: typing-extensions>=3.6.4 in /usr/local/lib/python3.7/dist-packages (from importlib-metadata>=4.4->markdown>=2.6.8->tensorboard->keras_tuner) (3.10.0.2)\n",
            "Requirement already satisfied: pyasn1<0.5.0,>=0.4.6 in /usr/local/lib/python3.7/dist-packages (from pyasn1-modules>=0.2.1->google-auth<3,>=1.6.3->tensorboard->keras_tuner) (0.4.8)\n",
            "Requirement already satisfied: oauthlib>=3.0.0 in /usr/local/lib/python3.7/dist-packages (from requests-oauthlib>=0.7.0->google-auth-oauthlib<0.5,>=0.4.1->tensorboard->keras_tuner) (3.1.1)\n",
            "Installing collected packages: kt-legacy, keras-tuner\n",
            "Successfully installed keras-tuner-1.1.0 kt-legacy-1.0.4\n"
          ]
        }
      ],
      "source": [
        "%pip install keras_tuner\n",
        "import keras_tuner as kt\n",
        "\n",
        "\n",
        "# tuner = kt.Hyperband(\n",
        "#     hypermodel=build_model,\n",
        "#     objective=\"val_accuracy\",\n",
        "#     max_epochs=2,\n",
        "#     factor=3,\n",
        "#     hyperband_iterations=1,\n",
        "#     distribution_strategy=tf.distribute.MirroredStrategy(),\n",
        "#     directory=\"results_dir\",\n",
        "#     project_name=\"mnist\",\n",
        "#     overwrite=True,\n",
        "# )\n",
        "\n",
        "tuner = kt.BayesianOptimization(\n",
        "    build_model,\n",
        "    objective='val_loss',\n",
        "    max_trials=50,\n",
        "    seed=seed,\n",
        "    distribution_strategy=tf.distribute.MirroredStrategy(),\n",
        "    directory=\"results_dir\",\n",
        "    project_name=model_name,\n",
        "    overwrite=True,\n",
        ")"
      ]
    },
    {
      "cell_type": "code",
      "execution_count": null,
      "metadata": {
        "execution": {
          "iopub.execute_input": "2021-12-22T15:04:19.959378Z",
          "iopub.status.busy": "2021-12-22T15:04:19.959076Z",
          "iopub.status.idle": "2021-12-22T15:04:19.965395Z",
          "shell.execute_reply": "2021-12-22T15:04:19.964578Z",
          "shell.execute_reply.started": "2021-12-22T15:04:19.959339Z"
        },
        "id": "AiEUEGzioPpK",
        "trusted": true
      },
      "outputs": [],
      "source": [
        "# model = build_model(input_shape, output_shape)\n",
        "# model.summary()\n",
        "#tfk.utils.plot_model(model, expand_nested=True)"
      ]
    },
    {
      "cell_type": "markdown",
      "metadata": {
        "id": "3wbSmz0toagP"
      },
      "source": [
        "## Train the model"
      ]
    },
    {
      "cell_type": "code",
      "execution_count": null,
      "metadata": {
        "colab": {
          "base_uri": "https://localhost:8080/"
        },
        "execution": {
          "iopub.execute_input": "2021-12-22T15:04:19.967628Z",
          "iopub.status.busy": "2021-12-22T15:04:19.966676Z"
        },
        "id": "XVNiylQkoh6K",
        "outputId": "a90d9434-4e83-4623-93ce-7139dcb6d7f2",
        "trusted": true
      },
      "outputs": [
        {
          "name": "stdout",
          "output_type": "stream",
          "text": [
            "\n",
            "Search: Running Trial #1\n",
            "\n",
            "Hyperparameter    |Value             |Best Value So Far \n",
            "layer             |1404              |?                 \n",
            "regularization    |4.3559e-05        |?                 \n",
            "kernel            |6                 |?                 \n",
            "dropout1          |0                 |?                 \n",
            "dropout2          |0.1               |?                 \n",
            "clipnorm          |0.052415          |?                 \n",
            "\n",
            "Epoch 1/200\n"
          ]
        }
      ],
      "source": [
        "callbacks = create_folders_and_callbacks(model_name=model_name) \n",
        "\n",
        "tuner.search(x = X_train,\n",
        "             y = y_train,\n",
        "             batch_size = batch_size,\n",
        "             epochs = epochs,\n",
        "             validation_split=.1,\n",
        "             callbacks=callbacks)\n",
        "\n",
        "model = tuner.get_best_models(1)[0]\n",
        "\n",
        "hyperparameters = tuner.get_best_hyperparameters(1)[0]\n",
        "print(\"Layer: \", hyperparameters.get('layer'))\n",
        "print(\"Regularization: \", hyperparameters.get('regularization'))\n",
        "print(\"Kernel: \", hyperparameters.get('kernel'))\n",
        "print(\"Dropout1: \", hyperparameters.get('dropout1'))\n",
        "print(\"Dropout2: \", hyperparameters.get('dropout2'))\n",
        "print(\"Clipnorm: \", hyperparameters.get('clipnorm'))\n",
        "\n",
        "# history = model.fit(\n",
        "#     x = X_train,\n",
        "#     y = y_train,\n",
        "#     batch_size = batch_size,\n",
        "#     epochs = epochs,\n",
        "#     validation_split=.1,\n",
        "# ).history"
      ]
    },
    {
      "cell_type": "markdown",
      "metadata": {
        "id": "1Bl0H_vJpLnh"
      },
      "source": [
        "## Save the model"
      ]
    },
    {
      "cell_type": "code",
      "execution_count": null,
      "metadata": {
        "id": "ZlmkE_VMpH2l",
        "trusted": true
      },
      "outputs": [],
      "source": [
        "# model.save(model_name)\n",
        "# model = tfk.models.load_model(model_name)"
      ]
    },
    {
      "cell_type": "markdown",
      "metadata": {
        "id": "LlMsF5chopgp"
      },
      "source": [
        "## Plot the results"
      ]
    },
    {
      "cell_type": "code",
      "execution_count": null,
      "metadata": {
        "id": "QgQvZwYXorEV",
        "trusted": true
      },
      "outputs": [],
      "source": [
        "# best_epoch = np.argmin(history['val_loss'])\n",
        "# plt.figure(figsize=(17,4))\n",
        "# plt.plot(history['loss'], label='Training loss', alpha=.8, color='#ff7f0e')\n",
        "# plt.plot(history['val_loss'], label='Validation loss', alpha=.9, color='#5a9aa5')\n",
        "# plt.axvline(x=best_epoch, label='Best epoch', alpha=.3, ls='--', color='#5a9aa5')\n",
        "# plt.title('Mean Squared Error (Loss)')\n",
        "# plt.legend()\n",
        "# plt.grid(alpha=.3)\n",
        "# plt.show()"
      ]
    },
    {
      "cell_type": "code",
      "execution_count": null,
      "metadata": {
        "id": "EeF5O22_diqQ",
        "trusted": true
      },
      "outputs": [],
      "source": [
        "# plt.figure(figsize=(17,4))\n",
        "# plt.plot(history['rmse'], label='Training accuracy', alpha=.8, color='#ff7f0e')\n",
        "# plt.plot(history['val_rmse'], label='Validation accuracy', alpha=.9, color='#5a9aa5')\n",
        "# plt.axvline(x=best_epoch, label='Best epoch', alpha=.3, ls='--', color='#5a9aa5')\n",
        "# plt.title('Root Mean Squared Error')\n",
        "# plt.legend()\n",
        "# plt.grid(alpha=.3)\n",
        "# plt.show()"
      ]
    },
    {
      "cell_type": "code",
      "execution_count": null,
      "metadata": {
        "id": "Hk2PAiuUo1FG",
        "trusted": true
      },
      "outputs": [],
      "source": [
        "# plt.figure(figsize=(17,4))\n",
        "# plt.plot(history['mae'], label='Training accuracy', alpha=.8, color='#ff7f0e')\n",
        "# plt.plot(history['val_mae'], label='Validation accuracy', alpha=.9, color='#5a9aa5')\n",
        "# plt.axvline(x=best_epoch, label='Best epoch', alpha=.3, ls='--', color='#5a9aa5')\n",
        "# plt.title('Mean Absolute Error')\n",
        "# plt.legend()\n",
        "# plt.grid(alpha=.3)\n",
        "# plt.show()"
      ]
    },
    {
      "cell_type": "code",
      "execution_count": null,
      "metadata": {
        "id": "5IJjWnf-o2sm",
        "trusted": true
      },
      "outputs": [],
      "source": [
        "# plt.figure(figsize=(18,3))\n",
        "# plt.plot(history['lr'], label='Learning Rate', alpha=.8, color='#ff7f0e')\n",
        "# plt.axvline(x=best_epoch, label='Best epoch', alpha=.3, ls='--', color='#5a9aa5')\n",
        "# plt.legend()\n",
        "# plt.grid(alpha=.3)\n",
        "# plt.show()"
      ]
    },
    {
      "cell_type": "markdown",
      "metadata": {
        "id": "Z_7DoC8Upe-c"
      },
      "source": [
        "# Test"
      ]
    },
    {
      "cell_type": "markdown",
      "metadata": {
        "id": "6-6L2sJDpgvx"
      },
      "source": [
        "## Setup"
      ]
    },
    {
      "cell_type": "code",
      "execution_count": null,
      "metadata": {
        "id": "y3zK3xd6p5o-",
        "trusted": true
      },
      "outputs": [],
      "source": [
        "predictions = model.predict(X_test)\n",
        "print(predictions.shape)\n",
        "\n",
        "mean_squared_error = tfk.metrics.mse(y_test.flatten(),predictions.flatten())\n",
        "mean_absolute_error = tfk.metrics.mae(y_test.flatten(),predictions.flatten())\n",
        "print(mean_squared_error, mean_absolute_error)"
      ]
    },
    {
      "cell_type": "code",
      "execution_count": null,
      "metadata": {
        "id": "CtO9SN03p2UL",
        "trusted": true
      },
      "outputs": [],
      "source": [
        "def inspect_multivariate_prediction(X, y, pred, columns, telescope, idx=None):\n",
        "    if(idx==None):\n",
        "        idx=np.random.randint(0,len(X))\n",
        "\n",
        "    figs, axs = plt.subplots(len(columns), 1, sharex=True, figsize=(17,17))\n",
        "    for i, col in enumerate(columns):\n",
        "        axs[i].plot(np.arange(len(X[0,:,i])), X[idx,:,i])\n",
        "        axs[i].plot(np.arange(len(X[0,:,i]), len(X_train[0,:,i])+telescope), y[idx,:,i], color='orange')\n",
        "        axs[i].plot(np.arange(len(X[0,:,i]), len(X_train[0,:,i])+telescope), pred[idx,:,i], color='green')\n",
        "        axs[i].set_title(col)\n",
        "        axs[i].set_ylim(0,1)\n",
        "    plt.show()"
      ]
    },
    {
      "cell_type": "markdown",
      "metadata": {
        "id": "bN25jLkWp9MU"
      },
      "source": [
        "## Print"
      ]
    },
    {
      "cell_type": "code",
      "execution_count": null,
      "metadata": {
        "id": "PVP4RZdup8ae",
        "trusted": true
      },
      "outputs": [],
      "source": [
        "inspect_multivariate_prediction(X_test, y_test, predictions, target_labels, telescope)"
      ]
    },
    {
      "cell_type": "code",
      "execution_count": null,
      "metadata": {
        "id": "q7AMUlC2z_AY",
        "trusted": true
      },
      "outputs": [],
      "source": [
        "\n",
        "X_test_reg, y_test_reg = build_sequences(X_test_raw, target_labels, window, stride, reg_telescope)\n",
        "print(X_test_reg.shape, y_test_reg.shape)\n",
        "\n",
        "reg_predictions = np.array([])\n",
        "X_temp = X_test_reg\n",
        "for reg in range(int(reg_telescope/telescope)):\n",
        "    pred_temp = model.predict(X_temp)\n",
        "    if(len(reg_predictions)==0):\n",
        "        reg_predictions = pred_temp\n",
        "    else:\n",
        "        reg_predictions = np.concatenate((reg_predictions,pred_temp),axis=1)\n",
        "    X_temp = np.concatenate((X_temp[:,telescope:,:],pred_temp), axis=1)\n",
        "\n",
        "\n",
        "\n",
        "#lo uso col direct\n",
        "'''\n",
        "reg_telescope = telescope\n",
        "X_test_reg, y_test_reg = build_sequences(X_test_raw, target_labels, window, stride, reg_telescope)\n",
        "predictions = model.predict(X_test)\n",
        "reg_predictions = predictions\n",
        "'''\n"
      ]
    },
    {
      "cell_type": "code",
      "execution_count": null,
      "metadata": {
        "id": "rNQx2YrP6wKD",
        "trusted": true
      },
      "outputs": [],
      "source": [
        "#parte in comune\n",
        "\n",
        "print(reg_predictions.shape)\n",
        "\n",
        "mean_squared_error = tfk.metrics.mse(y_test_reg.flatten(),reg_predictions.flatten())\n",
        "mean_absolute_error = tfk.metrics.mae(y_test_reg.flatten(),reg_predictions.flatten())\n",
        "print(mean_squared_error, mean_absolute_error)\n",
        "\n",
        "inspect_multivariate_prediction(X_test_reg, y_test_reg, reg_predictions, target_labels, reg_telescope)\n",
        "\n"
      ]
    }
  ],
  "metadata": {
    "colab": {
      "provenance": []
    },
    "kernelspec": {
      "display_name": "Python 3",
      "language": "python",
      "name": "python3"
    },
    "language_info": {
      "codemirror_mode": {
        "name": "ipython",
        "version": 3
      },
      "file_extension": ".py",
      "mimetype": "text/x-python",
      "name": "python",
      "nbconvert_exporter": "python",
      "pygments_lexer": "ipython3",
      "version": "3.7.12"
    }
  },
  "nbformat": 4,
  "nbformat_minor": 0
}
